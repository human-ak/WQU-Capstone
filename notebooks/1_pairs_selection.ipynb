{
 "cells": [
  {
   "cell_type": "markdown",
   "metadata": {},
   "source": [
    "# Pairs Selection Framework\n",
    "This Notebook will Host First Stage of the framework as written in our paper : \"Hybrid Pairs Selection Framework for a Reinforcement Learning-Based Pairs Trading: Application of Linear and Non-Linear Feature Extraction Clustering\" ,\n",
    "\n",
    "The first part of the framework is about Pairs Selection, which is foundational and critical for a Pairs Trading Strategy.\n",
    "In this Notebook we will implement a Pairs Selection strategy in three steps:\n",
    "1.  [Dimensionality Reduction](#1b-dimensionality-reduction)\n",
    "2.  [Clustering](#1b2-use-convolutional-auto-encoders-to-reduce)\n",
    "3.  [Filtering](#1c1-filtering-pairs-using-sarmento-and-horta-4-rules-based-filtering)\n",
    "\n"
   ]
  },
  {
   "cell_type": "markdown",
   "metadata": {},
   "source": [
    "## 1.A. Asset Universe\n",
    "Collect Data related to technology-focused assets, cross-market (ETFs, stocks, Commodities, etc.)"
   ]
  },
  {
   "cell_type": "code",
   "execution_count": null,
   "metadata": {},
   "outputs": [],
   "source": [
    "# Code to collect and preprocess data for the asset universe\n",
    "# ..."
   ]
  },
  {
   "cell_type": "markdown",
   "metadata": {},
   "source": [
    "## 1.B. Dimensionality Reduction"
   ]
  },
  {
   "cell_type": "markdown",
   "metadata": {},
   "source": [
    "### 1.B.1. Use PCA to reduce the universe"
   ]
  },
  {
   "cell_type": "code",
   "execution_count": null,
   "metadata": {},
   "outputs": [],
   "source": [
    "# Code to apply PCA for dimensionality reduction\n",
    "# ..."
   ]
  },
  {
   "cell_type": "markdown",
   "metadata": {},
   "source": [
    "### 1.B.2. Use Convolutional Auto-Encoders to reduce"
   ]
  },
  {
   "cell_type": "code",
   "execution_count": null,
   "metadata": {},
   "outputs": [],
   "source": [
    "# Code to apply Convolutional Auto-Encoders for dimensionality reduction\n",
    "# ..."
   ]
  },
  {
   "cell_type": "markdown",
   "metadata": {},
   "source": [
    "### 1.B.3. Use PCA then CAE"
   ]
  },
  {
   "cell_type": "code",
   "execution_count": null,
   "metadata": {},
   "outputs": [],
   "source": [
    "# Code to apply PCA followed by Convolutional Auto-Encoders\n",
    "# ..."
   ]
  },
  {
   "cell_type": "markdown",
   "metadata": {},
   "source": [
    "## 1.C. Pairs Filtering"
   ]
  },
  {
   "cell_type": "markdown",
   "metadata": {},
   "source": [
    "### 1.C.1. Filtering pairs using Sarmento and Horta 4 rules-based filtering\n",
    "Cointegration, Hurst metric, half-life, average annual mean reversions (Set of pairs A)"
   ]
  },
  {
   "cell_type": "code",
   "execution_count": null,
   "metadata": {},
   "outputs": [],
   "source": [
    "# Code to filter pairs using Sarmento and Horta rules\n",
    "# ..."
   ]
  },
  {
   "cell_type": "markdown",
   "metadata": {},
   "source": [
    "### 1.C.2. Use Copula for pairs filtering (Set of Pairs B)"
   ]
  },
  {
   "cell_type": "code",
   "execution_count": null,
   "metadata": {},
   "outputs": [],
   "source": [
    "# Code to filter pairs using Copula\n",
    "# ..."
   ]
  },
  {
   "cell_type": "markdown",
   "metadata": {},
   "source": [
    "### 1.C.3. Hybrid approach of 1.C.1 and 1.C.2 (Set of Pairs C)"
   ]
  },
  {
   "cell_type": "code",
   "execution_count": null,
   "metadata": {},
   "outputs": [],
   "source": [
    "# Code to implement hybrid filtering approach\n",
    "# ..."
   ]
  }
 ],
 "metadata": {
  "language_info": {
   "name": "python"
  }
 },
 "nbformat": 4,
 "nbformat_minor": 2
}
