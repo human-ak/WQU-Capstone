{
 "cells": [
  {
   "cell_type": "markdown",
   "id": "80ffcea7",
   "metadata": {},
   "source": []
  },
  {
   "cell_type": "code",
   "execution_count": null,
   "id": "f7127008",
   "metadata": {},
   "outputs": [],
   "source": [
    "import tensorflow as tf\n",
    "import numpy as np\n",
    "import random\n",
    "import os\n",
    "import pickle\n",
    "import gc\n",
    "\n",
    "# Reproducibility\n",
    "seed = 42\n",
    "os.environ['PYTHONHASHSEED'] = str(seed)\n",
    "random.seed(seed)\n",
    "np.random.seed(seed)\n",
    "tf.random.set_seed(seed)\n",
    "\n",
    "# Optional: disable eager execution (if using graph mode code)\n",
    "#tf.compat.v1.disable_eager_execution()\n",
    "\n",
    "# Session config\n",
    "session_conf = tf.compat.v1.ConfigProto(\n",
    "    intra_op_parallelism_threads=1,\n",
    "    inter_op_parallelism_threads=1\n",
    ")\n",
    "sess = tf.compat.v1.Session(config=session_conf)\n",
    "\n",
    "# Set this session as default for everything that follows\n",
    "# No set_session needed — use a context manager instead\n",
    "with sess.as_default():\n",
    "    # your model/code here\n",
    "    pass\n",
    "\n",
    "tf.__version__"
   ]
  },
  {
   "cell_type": "code",
   "execution_count": null,
   "id": "c7448a10",
   "metadata": {},
   "outputs": [],
   "source": [
    "os.getcwd()"
   ]
  },
  {
   "cell_type": "code",
   "execution_count": null,
   "id": "8579ab83",
   "metadata": {},
   "outputs": [],
   "source": [
    "os.chdir('/mnt/d/GitHub/WQU-Capstone/notebooks/classes')\n",
    "\n",
    "os.getcwd()"
   ]
  },
  {
   "cell_type": "markdown",
   "id": "77d64101",
   "metadata": {},
   "source": [
    "### Import Classes"
   ]
  },
  {
   "cell_type": "code",
   "execution_count": null,
   "id": "eb9af704",
   "metadata": {},
   "outputs": [],
   "source": [
    "%load_ext autoreload\n",
    "%aimport class_ForecastingTrader \n",
    "%autoreload 1"
   ]
  },
  {
   "cell_type": "code",
   "execution_count": null,
   "id": "2a67edfc",
   "metadata": {},
   "outputs": [],
   "source": [
    "# series_analyser = class_SeriesAnalyser.SeriesAnalyser()\n",
    "# trader = class_Trader.Trader()\n",
    "# data_processor = class_DataProcessor.DataProcessor()\n",
    "forecasting_trader = class_ForecastingTrader.ForecastingTrader()"
   ]
  },
  {
   "cell_type": "code",
   "execution_count": null,
   "id": "0834be29",
   "metadata": {},
   "outputs": [],
   "source": [
    "current_path='/mnt/d/GitHub/WQU-Capstone/notebooks/CAE_75etf_17-5-25'\n",
    "with open(f'{current_path}/cae_10_clusters_pairs_category.pickle', 'rb') as handle: \n",
    "    pairs = pickle.load(handle)\n",
    "len(pairs)"
   ]
  },
  {
   "cell_type": "markdown",
   "id": "a1c73b70",
   "metadata": {},
   "source": [
    "## model train"
   ]
  },
  {
   "cell_type": "code",
   "execution_count": null,
   "id": "731818ca",
   "metadata": {},
   "outputs": [],
   "source": [
    "n_in_set = [24, 12, 6]\n",
    "hidden_nodes_set = [[50], [30], [20], [10]]\n",
    "\n",
    "hidden_nodes_names = [str(nodes[0])+'*2' if len(nodes) > 1 else str(nodes[0]) for nodes in hidden_nodes_set]"
   ]
  },
  {
   "cell_type": "code",
   "execution_count": null,
   "id": "5c66b201",
   "metadata": {},
   "outputs": [],
   "source": [
    "for input_dim in n_in_set:\n",
    "    for i, hidden_nodes in enumerate(hidden_nodes_set):\n",
    "        print(f'{i}, input_dim: {input_dim}, hidden_nodes: {hidden_nodes}')\n",
    "        model_config = {\"n_in\": input_dim,\n",
    "                        \"n_out\": 1,\n",
    "                        \"epochs\": 500,\n",
    "                        \"hidden_nodes\": hidden_nodes,\n",
    "                        \"loss_fct\": \"mse\",\n",
    "                        \"optimizer\": \"rmsprop\",\n",
    "                        \"batch_size\": 64,#256,\n",
    "                        \"train_val_split\": '2023-01-01',\n",
    "                        \"test_init\": '2024-01-01',}\n",
    "        models = forecasting_trader.train_models(pairs, model_config, model_type='rnn')\n",
    "        # save models for this configuration\n",
    "        with open(f'{current_path}/models/lstm/models_n_in-'+str(input_dim)+'_hidden_nodes-'+hidden_nodes_names[i]+'.pkl', 'wb') as f:\n",
    "            pickle.dump(models, f)\n",
    "\n",
    "gc.collect()"
   ]
  },
  {
   "cell_type": "code",
   "execution_count": null,
   "id": "c3a5a363",
   "metadata": {},
   "outputs": [],
   "source": []
  }
 ],
 "metadata": {
  "kernelspec": {
   "display_name": "tf",
   "language": "python",
   "name": "python3"
  },
  "language_info": {
   "codemirror_mode": {
    "name": "ipython",
    "version": 3
   },
   "file_extension": ".py",
   "mimetype": "text/x-python",
   "name": "python",
   "nbconvert_exporter": "python",
   "pygments_lexer": "ipython3",
   "version": "3.12.2"
  }
 },
 "nbformat": 4,
 "nbformat_minor": 5
}
