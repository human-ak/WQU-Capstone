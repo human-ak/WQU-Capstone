{
 "cells": [
  {
   "cell_type": "markdown",
   "metadata": {},
   "source": [
    "# Setup"
   ]
  },
  {
   "cell_type": "code",
   "execution_count": 1,
   "metadata": {},
   "outputs": [],
   "source": [
    "import yfinance as yf\n",
    "import pandas as pd\n",
    "import numpy as np\n",
    "import matplotlib.pyplot as plt\n",
    "import seaborn as sns\n",
    "from openbb import obb\n",
    "import financedatabase as fd\n",
    "from financetoolkit import Toolkit\n",
    "from utils.api_keys import API_KEYS"
   ]
  },
  {
   "cell_type": "markdown",
   "metadata": {},
   "source": [
    "# Tiingo"
   ]
  },
  {
   "cell_type": "code",
   "execution_count": null,
   "metadata": {},
   "outputs": [],
   "source": [
    "from tiingo import TiingoClient\n",
    "\n",
    "config = {}\n",
    "\n",
    "# To reuse the same HTTP Session across API calls (and have better performance), include a session key.\n",
    "config['session'] = True\n",
    "\n",
    "# If you don't have your API key as an environment variable,\n",
    "# pass it in via a configuration dictionary.\n",
    "config['api_key'] = API_KEYS[\"tiingo\"]\n",
    "\n",
    "# Initialize\n",
    "client = TiingoClient(config)"
   ]
  },
  {
   "cell_type": "code",
   "execution_count": null,
   "metadata": {},
   "outputs": [],
   "source": [
    "index_list = pd.read_csv(\"/Users/omar/Documents/WQU-Capstone/data/sample_cluster_Index_data.csv\")\n",
    "index_list = index_list[\"Index\"]\n",
    "index_list = index_list.tolist()\n"
   ]
  },
  {
   "cell_type": "code",
   "execution_count": null,
   "metadata": {},
   "outputs": [],
   "source": [
    "def get_tiingo_data(ticker, metric_name='adjClose', start_date, end_date), frequency=\"daily\":\n",
    "    \"\"\"\n",
    "    Fetch historical data from Tiingo API.\n",
    "    \"\"\"\n",
    "    try:\n",
    "        data = client.get_dataframe(ticker, startDate=start_date, endDate=end_date)\n",
    "        data.reset_index(inplace=True)\n",
    "        data.rename(columns={\"date\": \"Date\"}, inplace=True)\n",
    "        data.set_index(\"Date\", inplace=True)\n",
    "        return data\n",
    "    except Exception as e:\n",
    "        print(f\"Error fetching data for {ticker}: {e}\")\n",
    "        return None"
   ]
  },
  {
   "cell_type": "code",
   "execution_count": null,
   "metadata": {},
   "outputs": [
    {
     "name": "stdout",
     "output_type": "stream",
     "text": [
      "Fetching data for VXUS...\n",
      "Fetching data for BND...\n",
      "Fetching data for QQQ...\n",
      "Fetching data for BNDX...\n",
      "Fetching data for VTIP...\n",
      "Fetching data for VCIT...\n",
      "Fetching data for TLT...\n",
      "Fetching data for VCSH...\n",
      "Fetching data for VGIT...\n",
      "Fetching data for MBB...\n",
      "Fetching data for IEF...\n",
      "Fetching data for IUSB...\n",
      "Fetching data for VONG...\n",
      "Fetching data for VGSH...\n",
      "Fetching data for SHY...\n",
      "Fetching data for IGSB...\n",
      "Fetching data for SHV...\n",
      "Fetching data for TQQQ...\n",
      "Fetching data for SMH...\n",
      "Fetching data for ACWI...\n",
      "Fetching data for IEI...\n",
      "Fetching data for IGIB...\n",
      "Fetching data for VCLT...\n",
      "Fetching data for VGLT...\n",
      "Fetching data for PFF...\n",
      "Fetching data for EMB...\n",
      "Fetching data for RDVY...\n",
      "Fetching data for USIG...\n",
      "Fetching data for SOXX...\n",
      "Fetching data for SCZ...\n",
      "Fetching data for QYLD...\n",
      "Fetching data for CIBR...\n",
      "Fetching data for SDVY...\n",
      "Fetching data for FTSM...\n",
      "Fetching data for MCHI...\n",
      "Fetching data for IBB...\n",
      "Fetching data for ACWX...\n",
      "Fetching data for PDBC...\n",
      "Fetching data for KBWB...\n",
      "Fetching data for ANGL...\n",
      "Fetching data for BSCR...\n",
      "Fetching data for SQQQ...\n",
      "Fetching data for FALN...\n",
      "Fetching data for ICLN...\n",
      "Total errors encountered: 0\n",
      "                           date  close     high    low   open   volume  \\\n",
      "0     2020-01-02 00:00:00+00:00  56.31  56.3400  56.08  56.17  2017952   \n",
      "1     2020-01-03 00:00:00+00:00  55.62  55.9000  55.56  55.59  2140248   \n",
      "2     2020-01-06 00:00:00+00:00  55.70  55.7300  55.40  55.42  2119875   \n",
      "3     2020-01-07 00:00:00+00:00  55.60  55.7400  55.56  55.74  1987978   \n",
      "4     2020-01-08 00:00:00+00:00  55.70  55.9400  55.54  55.59  1824412   \n",
      "...                         ...    ...      ...    ...    ...      ...   \n",
      "55347 2024-12-24 00:00:00+00:00  11.64  11.6699  11.50  11.51  1680243   \n",
      "55348 2024-12-26 00:00:00+00:00  11.60  11.6700  11.51  11.51  1760375   \n",
      "55349 2024-12-27 00:00:00+00:00  11.53  11.5750  11.46  11.55  2294623   \n",
      "55350 2024-12-30 00:00:00+00:00  11.43  11.4500  11.34  11.45  3150990   \n",
      "55351 2024-12-31 00:00:00+00:00  11.38  11.4900  11.35  11.45  2964709   \n",
      "\n",
      "        adjClose    adjHigh     adjLow    adjOpen  adjVolume  divCash  \\\n",
      "0      48.193664  48.219340  47.996816  48.073843    2017952      0.0   \n",
      "1      47.603119  47.842760  47.551767  47.577443    2140248      0.0   \n",
      "2      47.671588  47.697264  47.414829  47.431946    2119875      0.0   \n",
      "3      47.586001  47.705822  47.551767  47.705822    1987978      0.0   \n",
      "4      47.671588  47.876995  47.534650  47.577443    1824412      0.0   \n",
      "...          ...        ...        ...        ...        ...      ...   \n",
      "55347  11.640000  11.669900  11.500000  11.510000    1680243      0.0   \n",
      "55348  11.600000  11.670000  11.510000  11.510000    1760375      0.0   \n",
      "55349  11.530000  11.575000  11.460000  11.550000    2294623      0.0   \n",
      "55350  11.430000  11.450000  11.340000  11.450000    3150990      0.0   \n",
      "55351  11.380000  11.490000  11.350000  11.450000    2964709      0.0   \n",
      "\n",
      "       splitFactor Ticker  \n",
      "0              1.0   VXUS  \n",
      "1              1.0   VXUS  \n",
      "2              1.0   VXUS  \n",
      "3              1.0   VXUS  \n",
      "4              1.0   VXUS  \n",
      "...            ...    ...  \n",
      "55347          1.0   ICLN  \n",
      "55348          1.0   ICLN  \n",
      "55349          1.0   ICLN  \n",
      "55350          1.0   ICLN  \n",
      "55351          1.0   ICLN  \n",
      "\n",
      "[55352 rows x 14 columns]\n"
     ]
    }
   ],
   "source": [
    "start_date = \"2020-01-01\"\n",
    "end_date = \"2024-12-31\"\n",
    "frequency = \"daily\"\n",
    "\n",
    "# Initialize an empty DataFrame\n",
    "tiingo_df = pd.DataFrame()\n",
    "\n",
    "# Fetch data ticker by ticker\n",
    "errorcounter = 0\n",
    "for ticker in index_list:\n",
    "    print(f\"Fetching data for {ticker}...\")\n",
    "    try:\n",
    "        # Fetch data for the current ticker\n",
    "        ticker_data = client.get_dataframe(\n",
    "            ticker,\n",
    "            startDate=start_date,\n",
    "            endDate=end_date,\n",
    "            frequency=frequency,\n",
    "            fmt='json'\n",
    "        )\n",
    "        \n",
    "        # Add a column for the ticker symbol\n",
    "        ticker_data['Ticker'] = ticker\n",
    "        \n",
    "        # Append the data to the main DataFrame\n",
    "        tiingo_df = pd.concat([tiingo_df, ticker_data])\n",
    "    except Exception as e:\n",
    "        errorcounter += 1\n",
    "        print(f\"Error fetching data for {ticker}: {e}\")\n",
    "print(f\"Total errors encountered: {errorcounter}\")\n",
    "print(f\"Total tickers loaded: {len(index_list) - errorcounter}\")\n",
    "# Reset the index for the final DataFrame\n",
    "tiingo_df.reset_index(inplace=True)\n",
    "\n",
    "# Display the resulting DataFrame\n",
    "print(tiingo_df)"
   ]
  },
  {
   "cell_type": "code",
   "execution_count": null,
   "metadata": {},
   "outputs": [
    {
     "name": "stdout",
     "output_type": "stream",
     "text": [
      "                       date  close   high    low   open   volume   adjClose  \\\n",
      "0 2020-01-02 00:00:00+00:00  56.31  56.34  56.08  56.17  2017952  48.193664   \n",
      "1 2020-01-03 00:00:00+00:00  55.62  55.90  55.56  55.59  2140248  47.603119   \n",
      "2 2020-01-06 00:00:00+00:00  55.70  55.73  55.40  55.42  2119875  47.671588   \n",
      "3 2020-01-07 00:00:00+00:00  55.60  55.74  55.56  55.74  1987978  47.586001   \n",
      "4 2020-01-08 00:00:00+00:00  55.70  55.94  55.54  55.59  1824412  47.671588   \n",
      "\n",
      "     adjHigh     adjLow    adjOpen  adjVolume  divCash  splitFactor Ticker  \n",
      "0  48.219340  47.996816  48.073843    2017952      0.0          1.0   VXUS  \n",
      "1  47.842760  47.551767  47.577443    2140248      0.0          1.0   VXUS  \n",
      "2  47.697264  47.414829  47.431946    2119875      0.0          1.0   VXUS  \n",
      "3  47.705822  47.551767  47.705822    1987978      0.0          1.0   VXUS  \n",
      "4  47.876995  47.534650  47.577443    1824412      0.0          1.0   VXUS  \n"
     ]
    }
   ],
   "source": [
    "print(tiingo_df.head())"
   ]
  },
  {
   "cell_type": "code",
   "execution_count": null,
   "metadata": {},
   "outputs": [
    {
     "name": "stdout",
     "output_type": "stream",
     "text": [
      "<class 'pandas.core.frame.DataFrame'>\n",
      "RangeIndex: 55352 entries, 0 to 55351\n",
      "Data columns (total 14 columns):\n",
      " #   Column       Non-Null Count  Dtype              \n",
      "---  ------       --------------  -----              \n",
      " 0   date         55352 non-null  datetime64[ns, UTC]\n",
      " 1   close        55352 non-null  float64            \n",
      " 2   high         55352 non-null  float64            \n",
      " 3   low          55352 non-null  float64            \n",
      " 4   open         55352 non-null  float64            \n",
      " 5   volume       55352 non-null  int64              \n",
      " 6   adjClose     55352 non-null  float64            \n",
      " 7   adjHigh      55352 non-null  float64            \n",
      " 8   adjLow       55352 non-null  float64            \n",
      " 9   adjOpen      55352 non-null  float64            \n",
      " 10  adjVolume    55352 non-null  int64              \n",
      " 11  divCash      55352 non-null  float64            \n",
      " 12  splitFactor  55352 non-null  float64            \n",
      " 13  Ticker       55352 non-null  object             \n",
      "dtypes: datetime64[ns, UTC](1), float64(10), int64(2), object(1)\n",
      "memory usage: 5.9+ MB\n"
     ]
    }
   ],
   "source": [
    "tiingo_df.info()"
   ]
  },
  {
   "cell_type": "code",
   "execution_count": 16,
   "metadata": {},
   "outputs": [],
   "source": [
    "tiingo_df.to_csv(\"/Users/omar/Documents/WQU-Capstone/data/tiingo_data.csv\", index=False)"
   ]
  },
  {
   "cell_type": "code",
   "execution_count": 17,
   "metadata": {},
   "outputs": [
    {
     "name": "stdout",
     "output_type": "stream",
     "text": [
      "Ticker                          ACWI       ACWX       ANGL        BND  \\\n",
      "date                                                                    \n",
      "2020-01-02 00:00:00+00:00  73.339969  43.517758  22.859068  72.502058   \n",
      "2020-01-03 00:00:00+00:00  72.707965  42.957594  22.904924  72.761087   \n",
      "2020-01-06 00:00:00+00:00  72.872836  43.062625  22.843783  72.674744   \n",
      "2020-01-07 00:00:00+00:00  72.689646  42.975099  22.889639  72.614304   \n",
      "2020-01-08 00:00:00+00:00  73.046866  43.088883  22.889639  72.502058   \n",
      "\n",
      "Ticker                          BNDX       BSCR       CIBR        EMB  \\\n",
      "date                                                                    \n",
      "2020-01-02 00:00:00+00:00  48.633984  17.742726  29.429946  89.863443   \n",
      "2020-01-03 00:00:00+00:00  48.771150  17.806168  29.507266  89.636238   \n",
      "2020-01-06 00:00:00+00:00  48.736859  17.797709  29.869704  89.456041   \n",
      "2020-01-07 00:00:00+00:00  48.702567  17.759644  29.893867  89.597064   \n",
      "2020-01-08 00:00:00+00:00  48.608265  17.755414  30.067837  89.832104   \n",
      "\n",
      "Ticker                          FALN       FTSM  ...       USIG       VCIT  \\\n",
      "date                                             ...                         \n",
      "2020-01-02 00:00:00+00:00  20.683001  52.330936  ...  48.862164  76.410165   \n",
      "2020-01-03 00:00:00+00:00  20.738516  52.339645  ...  48.962514  76.627405   \n",
      "2020-01-06 00:00:00+00:00  20.745361  52.343999  ...  48.912339  76.577273   \n",
      "2020-01-07 00:00:00+00:00  20.734714  52.348354  ...  48.837076  76.518785   \n",
      "2020-01-08 00:00:00+00:00  20.768936  52.348354  ...  48.770176  76.468653   \n",
      "\n",
      "Ticker                          VCLT       VCSH       VGIT       VGLT  \\\n",
      "date                                                                    \n",
      "2020-01-02 00:00:00+00:00  81.872854  70.267992  58.044232  72.331175   \n",
      "2020-01-03 00:00:00+00:00  82.452656  70.363382  58.299121  73.407403   \n",
      "2020-01-06 00:00:00+00:00  82.090279  70.415413  58.228807  73.054400   \n",
      "2020-01-07 00:00:00+00:00  81.679586  70.337367  58.211228  72.666958   \n",
      "2020-01-08 00:00:00+00:00  81.373580  70.294007  58.105757  72.253686   \n",
      "\n",
      "Ticker                          VGSH       VONG       VTIP       VXUS  \n",
      "date                                                                   \n",
      "2020-01-02 00:00:00+00:00  53.909215  44.031594  40.924797  48.193664  \n",
      "2020-01-03 00:00:00+00:00  53.953527  43.733889  40.982894  47.603119  \n",
      "2020-01-06 00:00:00+00:00  53.918077  43.993180  40.974594  47.671588  \n",
      "2020-01-07 00:00:00+00:00  53.935802  43.913952  40.933097  47.586001  \n",
      "2020-01-08 00:00:00+00:00  53.918077  44.235666  40.891599  47.671588  \n",
      "\n",
      "[5 rows x 44 columns]\n"
     ]
    }
   ],
   "source": [
    "# Build df with all the tickers as columns and dates as index with only the adjusted close price\n",
    "tiingo_df_adj_close = tiingo_df[['date', 'Ticker', 'adjClose']]\n",
    "tiingo_df_adj_close = tiingo_df_adj_close.pivot(index='date', columns='Ticker', values='adjClose')\n",
    "tiingo_df_adj_close.reset_index(inplace=True)\n",
    "tiingo_df_adj_close.set_index('date', inplace=True)\n",
    "tiingo_df_adj_close = tiingo_df_adj_close.astype(float)\n",
    "# Display the resulting DataFrame\n",
    "print(tiingo_df_adj_close.head())"
   ]
  },
  {
   "cell_type": "markdown",
   "metadata": {},
   "source": [
    "# Building the Asset Universe"
   ]
  },
  {
   "cell_type": "markdown",
   "metadata": {},
   "source": [
    "## Defining OpenBB Data Providers"
   ]
  },
  {
   "cell_type": "code",
   "execution_count": null,
   "metadata": {},
   "outputs": [],
   "source": [
    "# OBB Data Providers list:\n",
    "#-------------------------#\n",
    "obb_data_providers = [\n",
    "    \"alphavantage\",\n",
    "    \"benzinga\",\n",
    "    \"biztoc\",\n",
    "    \"fmp\",\n",
    "    \"fred\",\n",
    "    \"nasdaq\",\n",
    "    \"polygon\",\n",
    "    \"tiingo\",\n",
    "    \"yfinance\"\n",
    "]\n",
    "#-------------------------#\n",
    "# OBB interval list:\n",
    "obb_intervals = []\n",
    "    \n",
    "#defining the function to get data from OBB\n",
    "def get_obb_data(ticker, provider, start_date=None, end_date=None, interval=None):\n",
    "    if provider not in obb_data_providers:\n",
    "        print(f\"Error: provider should be in {obb_data_providers}\")\n",
    "        return None\n",
    "    try:\n",
    "        data = obb.equity.price.historical(\n",
    "            ticker, \n",
    "            provider=provider, \n",
    "            start_date=start_date, \n",
    "            end_date=end_date, \n",
    "            interval=interval\n",
    "        ).to_df()\n",
    "        return data\n",
    "    except Exception as e:\n",
    "        print(f\"Error fetching data from {provider}: {e}\")\n",
    "        return None\n"
   ]
  },
  {
   "cell_type": "markdown",
   "metadata": {},
   "source": [
    "Testing `OpenBB`to import AAPL data"
   ]
  },
  {
   "cell_type": "code",
   "execution_count": null,
   "metadata": {},
   "outputs": [],
   "source": [
    "apple_data = obb.equity.price.historical(\"AAPL\", provider=\"yfinance\").to_df()"
   ]
  },
  {
   "cell_type": "markdown",
   "metadata": {},
   "source": [
    "## Testing Finance DataBase Package"
   ]
  },
  {
   "cell_type": "code",
   "execution_count": null,
   "metadata": {},
   "outputs": [],
   "source": [
    "# Load FMP API key from API_KEYS dictionary\n",
    "fmp_api_key = API_KEYS[\"fmp\"]"
   ]
  },
  {
   "cell_type": "markdown",
   "metadata": {},
   "source": [
    "### FD Equities"
   ]
  },
  {
   "cell_type": "code",
   "execution_count": null,
   "metadata": {},
   "outputs": [],
   "source": [
    "# Initialize the Equities database\n",
    "equities = fd.Equities()\n",
    "\n",
    "# Build Asset Universe based on sector and market cap\n",
    "# Sector: Information Technology (IT)\n",
    "# Market Cap: focus on Mid Cap stocks\n",
    "asset_universe_equities = equities.select(\n",
    "    sector=\"Information Technology\",\n",
    "    market_cap=[\"Mid Cap\"],\n",
    ")"
   ]
  },
  {
   "cell_type": "code",
   "execution_count": null,
   "metadata": {},
   "outputs": [],
   "source": [
    "# Show number of assets \n",
    "asset_universe_equities.groupby(\"exchange\").size().sort_values(ascending=False).head(25)"
   ]
  },
  {
   "cell_type": "markdown",
   "metadata": {},
   "source": [
    "Let's pick only top 25 countries from above:"
   ]
  },
  {
   "cell_type": "code",
   "execution_count": null,
   "metadata": {},
   "outputs": [],
   "source": [
    "# TOP 25 exchanges\n",
    "top25_equities_exchanges = asset_universe_equities.groupby(\"exchange\").size().sort_values(ascending=False).head(25).index.tolist()\n",
    "top25_equities_exchanges"
   ]
  },
  {
   "cell_type": "code",
   "execution_count": null,
   "metadata": {},
   "outputs": [],
   "source": [
    "asset_universe_equities = asset_universe_equities[asset_universe_equities[\"exchange\"].isin(toop25_equities_exchanges)]\n",
    "asset_universe_equities"
   ]
  },
  {
   "cell_type": "markdown",
   "metadata": {},
   "source": [
    "List echanges:"
   ]
  },
  {
   "cell_type": "code",
   "execution_count": null,
   "metadata": {},
   "outputs": [],
   "source": [
    "# Show number of assets by market\n",
    "display(asset_universe_equities.groupby(\"market\").size().sort_values(ascending=False))\n",
    "# Print the number of assets in the universe\n",
    "print(f\"Number of equities in the universe: {len(asset_universe_equities)}\")"
   ]
  },
  {
   "cell_type": "markdown",
   "metadata": {},
   "source": [
    "### FD ETFs"
   ]
  },
  {
   "cell_type": "code",
   "execution_count": null,
   "metadata": {},
   "outputs": [],
   "source": [
    "etfs = fd.ETFs()\n",
    "asset_universe_etfs = etfs.select(category_group=\"Information Technology\")\n",
    "# Show number of ETFs by market\n",
    "display(asset_universe_etfs.groupby(\"exchange\").size().sort_values(ascending=False))"
   ]
  },
  {
   "cell_type": "code",
   "execution_count": null,
   "metadata": {},
   "outputs": [],
   "source": [
    "# TOP 5 exchanges\n",
    "top25_ETFS_exchanges = asset_universe_etfs.groupby(\"exchange\").size().sort_values(ascending=False).head(5).index.tolist()\n",
    "# Select only the top 25 exchanges\n",
    "asset_universe_etfs = asset_universe_etfs[asset_universe_etfs[\"exchange\"].isin(top25_ETFS_exchanges)]\n",
    "# Show number of ETFs by market\n",
    "display(asset_universe_etfs.groupby(\"exchange\").size().sort_values(ascending=False))\n",
    "# Print the number of ETFs in the universe\n",
    "print(f\"Number of ETFs in the universe: {len(asset_universe_etfs)}\")\n"
   ]
  },
  {
   "cell_type": "code",
   "execution_count": null,
   "metadata": {},
   "outputs": [],
   "source": [
    "asset_universe_etfs"
   ]
  },
  {
   "cell_type": "code",
   "execution_count": null,
   "metadata": {},
   "outputs": [],
   "source": [
    "# Save Top5 ETFs Symbols in list\n",
    "etf_symbols = asset_universe_etfs.index.tolist()\n",
    "etf_symbols"
   ]
  },
  {
   "cell_type": "code",
   "execution_count": null,
   "metadata": {},
   "outputs": [],
   "source": [
    "#Toolkit\n",
    "ETFs = Toolkit(\n",
    "    etf_symbols[:20], api_key=API_KEYS[\"fmp\"], start_date=\"2020-01-01\"\n",
    ")"
   ]
  },
  {
   "cell_type": "code",
   "execution_count": null,
   "metadata": {},
   "outputs": [],
   "source": [
    "display(ETFs.get_historical_data())"
   ]
  },
  {
   "cell_type": "code",
   "execution_count": null,
   "metadata": {},
   "outputs": [],
   "source": []
  },
  {
   "cell_type": "markdown",
   "metadata": {},
   "source": [
    "### FD Funds"
   ]
  },
  {
   "cell_type": "code",
   "execution_count": null,
   "metadata": {},
   "outputs": [],
   "source": [
    "# Initialize Funds database\n",
    "funds = fd.Funds()\n",
    "asset_universe_funds = funds.select(category_group=\"Information Technology\")\n",
    "# Pick only the top 25 exchanges\n",
    "asset_universe_funds = asset_universe_funds[asset_universe_funds[\"exchange\"].isin(asset_universe_exchanges)]    \n",
    "# Show number of funds by market\n",
    "display(asset_universe_funds.groupby(\"exchange\").size().sort_values(ascending=False))\n",
    "# Print the number of funds in the universe\n",
    "print(f\"Number of funds in the universe: {len(asset_universe_funds)}\")"
   ]
  },
  {
   "cell_type": "code",
   "execution_count": null,
   "metadata": {},
   "outputs": [],
   "source": [
    "# display funds\n",
    "asset_universe_funds"
   ]
  },
  {
   "cell_type": "markdown",
   "metadata": {},
   "source": [
    "### FD Cryptos"
   ]
  },
  {
   "cell_type": "code",
   "execution_count": null,
   "metadata": {},
   "outputs": [],
   "source": [
    "# Initialize the Crypto database\n",
    "cryptos = fd.Cryptos()\n",
    "eth_cryptos = cryptos.select(\n",
    "    cryptocurrency=\"ETH\"\n",
    ")\n",
    "cryptos_toolkit = eth_cryptos.to_toolkit(\n",
    "    api_key=fmp_api_key,\n",
    "    start_date=\"2020-01-01\"\n",
    ")\n",
    "cryptos_toolkit.get_historical_data(period=\"daily\")"
   ]
  },
  {
   "cell_type": "code",
   "execution_count": 2,
   "metadata": {},
   "outputs": [],
   "source": [
    "from tiingo import TiingoClient\n",
    "\n",
    "config = {}\n",
    "\n",
    "# To reuse the same HTTP Session across API calls (and have better performance), include a session key.\n",
    "config['session'] = True\n",
    "\n",
    "# If you don't have your API key as an environment variable,\n",
    "# pass it in via a configuration dictionary.\n",
    "config['api_key'] = API_KEYS[\"tiingo\"]\n",
    "\n",
    "# Initialize\n",
    "client = TiingoClient(config)"
   ]
  },
  {
   "cell_type": "code",
   "execution_count": 3,
   "metadata": {},
   "outputs": [],
   "source": [
    "index_list = pd.read_csv(\"/Users/omar/Documents/WQU-Capstone/data/sample_cluster_Index_data.csv\")\n",
    "index_list = index_list[\"Index\"]\n",
    "index_list = index_list.tolist()\n"
   ]
  },
  {
   "cell_type": "code",
   "execution_count": 4,
   "metadata": {},
   "outputs": [],
   "source": [
    "# load data from Tiingo\n",
    "def get_tiingo_data(ticker, metric_name='adjClose', start_date=None, end_date=None, frequency=\"daily\"):\n",
    "    try:\n",
    "        data = client.get_dataframe(\n",
    "            ticker,\n",
    "            metric_name =metric_name,\n",
    "            startDate=start_date,\n",
    "            endDate=end_date,\n",
    "            frequency=frequency,\n",
    "        )\n",
    "        return data\n",
    "    except Exception as e:\n",
    "        print(f\"Error fetching data from Tiingo: {e}\")\n",
    "        return None"
   ]
  },
  {
   "cell_type": "code",
   "execution_count": 6,
   "metadata": {},
   "outputs": [
    {
     "name": "stdout",
     "output_type": "stream",
     "text": [
      "Fetching data for VXUS...\n",
      "Fetching data for BND...\n",
      "Fetching data for QQQ...\n",
      "Fetching data for BNDX...\n",
      "Fetching data for VTIP...\n",
      "Fetching data for VCIT...\n",
      "Fetching data for TLT...\n",
      "Fetching data for VCSH...\n",
      "Fetching data for VGIT...\n",
      "Fetching data for MBB...\n",
      "Fetching data for IEF...\n",
      "Fetching data for IUSB...\n",
      "Fetching data for VONG...\n",
      "Fetching data for VGSH...\n",
      "Fetching data for SHY...\n",
      "Fetching data for IGSB...\n",
      "Fetching data for SHV...\n",
      "Fetching data for TQQQ...\n",
      "Fetching data for SMH...\n",
      "Fetching data for ACWI...\n",
      "Fetching data for IEI...\n",
      "Fetching data for IGIB...\n",
      "Fetching data for VCLT...\n",
      "Fetching data for VGLT...\n",
      "Fetching data for PFF...\n",
      "Fetching data for EMB...\n",
      "Fetching data for RDVY...\n",
      "Fetching data for USIG...\n",
      "Fetching data for SOXX...\n",
      "Fetching data for SCZ...\n",
      "Fetching data for QYLD...\n",
      "Fetching data for CIBR...\n",
      "Fetching data for SDVY...\n",
      "Fetching data for FTSM...\n",
      "Fetching data for MCHI...\n",
      "Fetching data for IBB...\n",
      "Fetching data for ACWX...\n",
      "Fetching data for PDBC...\n",
      "Fetching data for KBWB...\n",
      "Fetching data for ANGL...\n",
      "Fetching data for BSCR...\n",
      "Fetching data for SQQQ...\n",
      "Fetching data for FALN...\n",
      "Fetching data for ICLN...\n",
      "Total errors encountered: 0\n",
      "                           date  close     high    low   open   volume  \\\n",
      "0     2020-01-02 00:00:00+00:00  56.31  56.3400  56.08  56.17  2017952   \n",
      "1     2020-01-03 00:00:00+00:00  55.62  55.9000  55.56  55.59  2140248   \n",
      "2     2020-01-06 00:00:00+00:00  55.70  55.7300  55.40  55.42  2119875   \n",
      "3     2020-01-07 00:00:00+00:00  55.60  55.7400  55.56  55.74  1987978   \n",
      "4     2020-01-08 00:00:00+00:00  55.70  55.9400  55.54  55.59  1824412   \n",
      "...                         ...    ...      ...    ...    ...      ...   \n",
      "55347 2024-12-24 00:00:00+00:00  11.64  11.6699  11.50  11.51  1680243   \n",
      "55348 2024-12-26 00:00:00+00:00  11.60  11.6700  11.51  11.51  1760375   \n",
      "55349 2024-12-27 00:00:00+00:00  11.53  11.5750  11.46  11.55  2294623   \n",
      "55350 2024-12-30 00:00:00+00:00  11.43  11.4500  11.34  11.45  3150990   \n",
      "55351 2024-12-31 00:00:00+00:00  11.38  11.4900  11.35  11.45  2964709   \n",
      "\n",
      "        adjClose    adjHigh     adjLow    adjOpen  adjVolume  divCash  \\\n",
      "0      48.193664  48.219340  47.996816  48.073843    2017952      0.0   \n",
      "1      47.603119  47.842760  47.551767  47.577443    2140248      0.0   \n",
      "2      47.671588  47.697264  47.414829  47.431946    2119875      0.0   \n",
      "3      47.586001  47.705822  47.551767  47.705822    1987978      0.0   \n",
      "4      47.671588  47.876995  47.534650  47.577443    1824412      0.0   \n",
      "...          ...        ...        ...        ...        ...      ...   \n",
      "55347  11.640000  11.669900  11.500000  11.510000    1680243      0.0   \n",
      "55348  11.600000  11.670000  11.510000  11.510000    1760375      0.0   \n",
      "55349  11.530000  11.575000  11.460000  11.550000    2294623      0.0   \n",
      "55350  11.430000  11.450000  11.340000  11.450000    3150990      0.0   \n",
      "55351  11.380000  11.490000  11.350000  11.450000    2964709      0.0   \n",
      "\n",
      "       splitFactor Ticker  \n",
      "0              1.0   VXUS  \n",
      "1              1.0   VXUS  \n",
      "2              1.0   VXUS  \n",
      "3              1.0   VXUS  \n",
      "4              1.0   VXUS  \n",
      "...            ...    ...  \n",
      "55347          1.0   ICLN  \n",
      "55348          1.0   ICLN  \n",
      "55349          1.0   ICLN  \n",
      "55350          1.0   ICLN  \n",
      "55351          1.0   ICLN  \n",
      "\n",
      "[55352 rows x 14 columns]\n"
     ]
    }
   ],
   "source": [
    "start_date = \"2020-01-01\"\n",
    "end_date = \"2024-12-31\"\n",
    "frequency = 'daily'\n",
    "\n",
    "# Initialize an empty DataFrame\n",
    "tiingo_df = pd.DataFrame()\n",
    "\n",
    "# Fetch data ticker by ticker\n",
    "errorcounter = 0\n",
    "for ticker in index_list:\n",
    "    print(f\"Fetching data for {ticker}...\")\n",
    "    try:\n",
    "        # Fetch data for the current ticker\n",
    "        ticker_data = client.get_dataframe(\n",
    "            ticker,\n",
    "            startDate=start_date,\n",
    "            endDate=end_date,\n",
    "            frequency=frequency,\n",
    "            fmt='json'\n",
    "        )\n",
    "        \n",
    "        # Add a column for the ticker symbol\n",
    "        ticker_data['Ticker'] = ticker\n",
    "        \n",
    "        # Append the data to the main DataFrame\n",
    "        tiingo_df = pd.concat([tiingo_df, ticker_data])\n",
    "    except Exception as e:\n",
    "        errorcounter += 1\n",
    "        print(f\"Error fetching data for {ticker}: {e}\")\n",
    "print(f\"Total errors encountered: {errorcounter}\")\n",
    "# Reset the index for the final DataFrame\n",
    "tiingo_df.reset_index(inplace=True)\n",
    "\n",
    "# Display the resulting DataFrame\n",
    "print(tiingo_df)"
   ]
  },
  {
   "cell_type": "code",
   "execution_count": 7,
   "metadata": {},
   "outputs": [
    {
     "name": "stdout",
     "output_type": "stream",
     "text": [
      "                       date  close   high    low   open   volume   adjClose  \\\n",
      "0 2020-01-02 00:00:00+00:00  56.31  56.34  56.08  56.17  2017952  48.193664   \n",
      "1 2020-01-03 00:00:00+00:00  55.62  55.90  55.56  55.59  2140248  47.603119   \n",
      "2 2020-01-06 00:00:00+00:00  55.70  55.73  55.40  55.42  2119875  47.671588   \n",
      "3 2020-01-07 00:00:00+00:00  55.60  55.74  55.56  55.74  1987978  47.586001   \n",
      "4 2020-01-08 00:00:00+00:00  55.70  55.94  55.54  55.59  1824412  47.671588   \n",
      "\n",
      "     adjHigh     adjLow    adjOpen  adjVolume  divCash  splitFactor Ticker  \n",
      "0  48.219340  47.996816  48.073843    2017952      0.0          1.0   VXUS  \n",
      "1  47.842760  47.551767  47.577443    2140248      0.0          1.0   VXUS  \n",
      "2  47.697264  47.414829  47.431946    2119875      0.0          1.0   VXUS  \n",
      "3  47.705822  47.551767  47.705822    1987978      0.0          1.0   VXUS  \n",
      "4  47.876995  47.534650  47.577443    1824412      0.0          1.0   VXUS  \n"
     ]
    }
   ],
   "source": [
    "print(tiingo_df.head())"
   ]
  },
  {
   "cell_type": "code",
   "execution_count": 15,
   "metadata": {},
   "outputs": [
    {
     "name": "stdout",
     "output_type": "stream",
     "text": [
      "<class 'pandas.core.frame.DataFrame'>\n",
      "RangeIndex: 55352 entries, 0 to 55351\n",
      "Data columns (total 14 columns):\n",
      " #   Column       Non-Null Count  Dtype              \n",
      "---  ------       --------------  -----              \n",
      " 0   date         55352 non-null  datetime64[ns, UTC]\n",
      " 1   close        55352 non-null  float64            \n",
      " 2   high         55352 non-null  float64            \n",
      " 3   low          55352 non-null  float64            \n",
      " 4   open         55352 non-null  float64            \n",
      " 5   volume       55352 non-null  int64              \n",
      " 6   adjClose     55352 non-null  float64            \n",
      " 7   adjHigh      55352 non-null  float64            \n",
      " 8   adjLow       55352 non-null  float64            \n",
      " 9   adjOpen      55352 non-null  float64            \n",
      " 10  adjVolume    55352 non-null  int64              \n",
      " 11  divCash      55352 non-null  float64            \n",
      " 12  splitFactor  55352 non-null  float64            \n",
      " 13  Ticker       55352 non-null  object             \n",
      "dtypes: datetime64[ns, UTC](1), float64(10), int64(2), object(1)\n",
      "memory usage: 5.9+ MB\n"
     ]
    }
   ],
   "source": [
    "tiingo_df.info()"
   ]
  },
  {
   "cell_type": "code",
   "execution_count": null,
   "metadata": {},
   "outputs": [],
   "source": []
  }
 ],
 "metadata": {
  "kernelspec": {
   "display_name": ".venv",
   "language": "python",
   "name": "python3"
  },
  "language_info": {
   "codemirror_mode": {
    "name": "ipython",
    "version": 3
   },
   "file_extension": ".py",
   "mimetype": "text/x-python",
   "name": "python",
   "nbconvert_exporter": "python",
   "pygments_lexer": "ipython3",
   "version": "3.11.12"
  }
 },
 "nbformat": 4,
 "nbformat_minor": 2
}
