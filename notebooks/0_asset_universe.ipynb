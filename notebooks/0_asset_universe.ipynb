{
 "cells": [
  {
   "cell_type": "markdown",
   "metadata": {},
   "source": [
    "# Building the Asset Universe"
   ]
  },
  {
   "cell_type": "code",
   "execution_count": 35,
   "metadata": {},
   "outputs": [],
   "source": [
    "import yfinance as yf\n",
    "import pandas as pd\n",
    "import numpy as np\n",
    "import matplotlib.pyplot as plt\n",
    "import seaborn as sns\n",
    "from openbb import obb\n",
    "import financedatabase as fd\n",
    "from financetoolkit import Toolkit\n",
    "from utils.api_keys import API_KEYS"
   ]
  },
  {
   "cell_type": "markdown",
   "metadata": {},
   "source": [
    "## Defining OpenBB Data Providers"
   ]
  },
  {
   "cell_type": "code",
   "execution_count": null,
   "metadata": {},
   "outputs": [],
   "source": [
    "\n",
    "# OBB Data Providers list:\n",
    "#-------------------------#\n",
    "obb_data_providers = [\n",
    "    \"alphavantage\",\n",
    "    \"benzinga\",\n",
    "    \"biztoc\",\n",
    "    \"fmp\",\n",
    "    \"fred\",\n",
    "    \"nasdaq\",\n",
    "    \"polygon\",\n",
    "    \"tiingo\",\n",
    "    \"yfinance\"\n",
    "]\n",
    "#-------------------------#\n",
    "# OBB interval list:\n",
    "obb_intervals = []\n",
    "    \n",
    "#defining the function to get data from OBB\n",
    "def get_obb_data(ticker, provider, start_date=None, end_date=None, interval=None):\n",
    "    if provider not in obb_data_providers:\n",
    "        print(f\"Error: provider should be in {obb_data_providers}\")\n",
    "        return None\n",
    "    try:\n",
    "        data = obb.equity.price.historical(\n",
    "            ticker, \n",
    "            provider=provider, \n",
    "            start_date=start_date, \n",
    "            end_date=end_date, \n",
    "            interval=interval\n",
    "        ).to_df()\n",
    "        return data\n",
    "    except Exception as e:\n",
    "        print(f\"Error fetching data from {provider}: {e}\")\n",
    "        return None\n",
    "\n",
    "# Alpha Vantage\n",
    "alphavantage = obb.equity.price.historical(\"spy\", provider=\"alphavantage\").to_df()\n",
    "# Benzinga\n",
    "benzinga = obb.equity.price.historical(\"spy\", provider=\"benzinga\").to_df()\n",
    "#Biztoc\n",
    "biztoc = obb.equity.price.historical(\"spy\", provider=\"biztoc\").to_df()\n",
    "# Financial Modeling Prep\n",
    "fmp = obb.equity.price.historical(\"spy\", provider=\"fmp\").to_df()\n",
    "# FRED\n",
    "fred = obb.equity.price.historical(\"spy\", provider=\"fred\").to_df()\n",
    "# Nasdaq Data Link\n",
    "nasdaq = obb.equity.price.historical(\"spy\", provider=\"nasdaq\").to_df()\n",
    "# Polygon\n",
    "polygon = obb.equity.price.historical(\"spy\", provider=\"polygon\").to_df()\n",
    "# Tiingo\n",
    "tiingo = obb.equity.price.historical(\"spy\", provider=\"tiingo\").to_df()\n",
    "# Yahoo Finance\n",
    "yahoo = obb.equity.price.historical(\"spy\", provider=\"yfinance\").to_df()\n"
   ]
  },
  {
   "cell_type": "markdown",
   "metadata": {},
   "source": [
    "Testing `OpenBB`to import AAPL data"
   ]
  },
  {
   "cell_type": "code",
   "execution_count": null,
   "metadata": {},
   "outputs": [],
   "source": [
    "apple_data = obb.equity.price.historical(\"AAPL\", provider=\"yfinance\").to_df()"
   ]
  },
  {
   "cell_type": "markdown",
   "metadata": {},
   "source": [
    "## Testing Finance DataBase Package"
   ]
  },
  {
   "cell_type": "code",
   "execution_count": null,
   "metadata": {},
   "outputs": [],
   "source": [
    "# Load FMP API key from API_KEYS dictionary\n",
    "fmp_api_key = API_KEYS[\"fmp\"]"
   ]
  },
  {
   "cell_type": "markdown",
   "metadata": {},
   "source": [
    "### FD Equities"
   ]
  },
  {
   "cell_type": "code",
   "execution_count": null,
   "metadata": {},
   "outputs": [],
   "source": [
    "# Initialize the Equities database\n",
    "equities = fd.Equities()\n",
    "\n",
    "# Build Asset Universe based on sector and market cap\n",
    "# Sector: Information Technology (IT)\n",
    "# Market Cap: Large Cap, Mid Cap, Small Cap (no micro cap, nano cap, or mega cap)\n",
    "asset_universe = equities.select(\n",
    "    sector=\"Information Technology\",\n",
    "    market_cap=[\"Large Cap\", \"Mid Cap\", \"Small Cap\"],\n",
    ")"
   ]
  },
  {
   "cell_type": "code",
   "execution_count": 33,
   "metadata": {},
   "outputs": [
    {
     "data": {
      "text/plain": [
       "country\n",
       "United States           1362\n",
       "China                    629\n",
       "Japan                    351\n",
       "Taiwan                   212\n",
       "Germany                  211\n",
       "Canada                   124\n",
       "United Kingdom           121\n",
       "France                    96\n",
       "Israel                    90\n",
       "India                     77\n",
       "Australia                 71\n",
       "Sweden                    69\n",
       "South Korea               64\n",
       "Hong Kong                 56\n",
       "Netherlands               47\n",
       "Finland                   44\n",
       "Switzerland               39\n",
       "Norway                    36\n",
       "Singapore                 36\n",
       "Italy                     33\n",
       "Austria                   33\n",
       "Denmark                   24\n",
       "Thailand                  18\n",
       "Spain                     17\n",
       "Ireland                   15\n",
       "Belgium                   15\n",
       "Brazil                    14\n",
       "Poland                    12\n",
       "New Zealand               12\n",
       "Luxembourg                10\n",
       "Cayman Islands            10\n",
       "Czech Republic             8\n",
       "Cyprus                     5\n",
       "Turkey                     5\n",
       "Indonesia                  4\n",
       "Kazakhstan                 3\n",
       "Saudi Arabia               2\n",
       "Chile                      2\n",
       "Bermuda                    2\n",
       "Malaysia                   1\n",
       "South Africa               1\n",
       "Isle of Man                1\n",
       "United Arab Emirates       1\n",
       "Uruguay                    1\n",
       "dtype: int64"
      ]
     },
     "execution_count": 33,
     "metadata": {},
     "output_type": "execute_result"
    }
   ],
   "source": [
    "# Show number of assets \n",
    "asset_universe.groupby(\"country\").size().sort_values(ascending=False)"
   ]
  },
  {
   "cell_type": "markdown",
   "metadata": {},
   "source": [
    "### FD ETFs"
   ]
  },
  {
   "cell_type": "code",
   "execution_count": null,
   "metadata": {},
   "outputs": [],
   "source": []
  }
 ],
 "metadata": {
  "kernelspec": {
   "display_name": ".venv",
   "language": "python",
   "name": "python3"
  },
  "language_info": {
   "codemirror_mode": {
    "name": "ipython",
    "version": 3
   },
   "file_extension": ".py",
   "mimetype": "text/x-python",
   "name": "python",
   "nbconvert_exporter": "python",
   "pygments_lexer": "ipython3",
   "version": "3.12.6"
  }
 },
 "nbformat": 4,
 "nbformat_minor": 2
}
